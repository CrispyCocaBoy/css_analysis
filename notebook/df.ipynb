{
 "cells": [
  {
   "cell_type": "code",
   "execution_count": 12,
   "id": "0eaa30a0",
   "metadata": {},
   "outputs": [],
   "source": [
    "import pandas as pd\n",
    "import numpy as np"
   ]
  },
  {
   "cell_type": "code",
   "execution_count": 3,
   "id": "fc908856",
   "metadata": {},
   "outputs": [],
   "source": [
    "df = pd.read_csv('../results/aggregated/reddit_cleaned.csv')\n"
   ]
  },
  {
   "cell_type": "code",
   "execution_count": 14,
   "id": "55796318",
   "metadata": {},
   "outputs": [],
   "source": [
    "type NaN = float"
   ]
  },
  {
   "cell_type": "code",
   "execution_count": 16,
   "id": "e8c53175",
   "metadata": {},
   "outputs": [],
   "source": [
    "for row in df.iterrows():\n",
    "    isinstance(row[1]['text'], float)"
   ]
  },
  {
   "cell_type": "code",
   "execution_count": null,
   "id": "f0730bbb",
   "metadata": {},
   "outputs": [],
   "source": []
  }
 ],
 "metadata": {
  "kernelspec": {
   "display_name": ".venv",
   "language": "python",
   "name": "python3"
  },
  "language_info": {
   "codemirror_mode": {
    "name": "ipython",
    "version": 3
   },
   "file_extension": ".py",
   "mimetype": "text/x-python",
   "name": "python",
   "nbconvert_exporter": "python",
   "pygments_lexer": "ipython3",
   "version": "3.12.9"
  }
 },
 "nbformat": 4,
 "nbformat_minor": 5
}
